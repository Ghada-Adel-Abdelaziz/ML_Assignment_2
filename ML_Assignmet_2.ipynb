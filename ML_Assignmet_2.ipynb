{
 "cells": [
  {
   "cell_type": "markdown",
   "metadata": {},
   "source": [
    "# 1 Linear regression with one variable (Univariate Linear regression)"
   ]
  },
  {
   "cell_type": "code",
   "execution_count": 182,
   "metadata": {},
   "outputs": [],
   "source": [
    "import os\n",
    "\n",
    "import numpy as np\n",
    "import sklearn\n",
    "from sklearn.model_selection import train_test_split\n",
    "\n",
    "# Plotting library\n",
    "from matplotlib import pyplot\n",
    "from mpl_toolkits.mplot3d import Axes3D \n",
    "\n",
    "# tells matplotlib to embed plots within the notebook\n",
    "%matplotlib inline\n"
   ]
  },
  {
   "cell_type": "code",
   "execution_count": 313,
   "metadata": {},
   "outputs": [
    {
     "name": "stdout",
     "output_type": "stream",
     "text": [
      "87\n"
     ]
    }
   ],
   "source": [
    "# Read comma separated data\n",
    "data = np.loadtxt(os.path.join(r'C:\\Users\\Ghada\\Downloads', 'univariateData.dat'), delimiter=',')\n",
    "X, y = data[:, 0], data[:, 1]\n",
    "\n",
    "X_train, X_test, y_train, y_test = train_test_split(X, y, test_size=0.1, random_state=27)\n",
    "m = y_train.size  # number of training examples\n",
    "print(m)\n"
   ]
  },
  {
   "cell_type": "code",
   "execution_count": 314,
   "metadata": {},
   "outputs": [
    {
     "name": "stdout",
     "output_type": "stream",
     "text": [
      "[[ 1.     18.959 ]\n",
      " [ 1.      5.1793]\n",
      " [ 1.      5.7737]\n",
      " [ 1.      7.5402]\n",
      " [ 1.      5.8014]\n",
      " [ 1.      7.2259]\n",
      " [ 1.      6.002 ]\n",
      " [ 1.      6.5159]\n",
      " [ 1.      6.4296]\n",
      " [ 1.      5.7077]\n",
      " [ 1.      7.0931]\n",
      " [ 1.      6.8825]\n",
      " [ 1.      5.5204]\n",
      " [ 1.      9.7687]\n",
      " [ 1.      6.1891]\n",
      " [ 1.      5.4069]\n",
      " [ 1.      7.8247]\n",
      " [ 1.      5.734 ]\n",
      " [ 1.     20.27  ]\n",
      " [ 1.      7.4764]\n",
      " [ 1.      9.1802]\n",
      " [ 1.      5.4994]\n",
      " [ 1.     12.828 ]\n",
      " [ 1.      5.6407]\n",
      " [ 1.      5.0269]\n",
      " [ 1.      7.6366]\n",
      " [ 1.      7.2182]\n",
      " [ 1.      5.5277]\n",
      " [ 1.     14.164 ]\n",
      " [ 1.      5.0365]\n",
      " [ 1.      8.2111]\n",
      " [ 1.     10.274 ]\n",
      " [ 1.      5.0594]\n",
      " [ 1.      6.1101]\n",
      " [ 1.      5.6397]\n",
      " [ 1.      5.1884]\n",
      " [ 1.      6.3654]\n",
      " [ 1.      5.0546]\n",
      " [ 1.     22.203 ]\n",
      " [ 1.      8.0959]\n",
      " [ 1.      6.4862]\n",
      " [ 1.     13.176 ]\n",
      " [ 1.      8.5781]\n",
      " [ 1.      8.8254]\n",
      " [ 1.      9.3102]\n",
      " [ 1.      5.8707]\n",
      " [ 1.      5.1301]\n",
      " [ 1.      7.4239]\n",
      " [ 1.     10.136 ]\n",
      " [ 1.      6.3261]\n",
      " [ 1.      7.5386]\n",
      " [ 1.     20.341 ]\n",
      " [ 1.      5.4369]\n",
      " [ 1.      8.5172]\n",
      " [ 1.      8.3829]\n",
      " [ 1.      6.5479]\n",
      " [ 1.     11.7   ]\n",
      " [ 1.      8.2951]\n",
      " [ 1.      5.8918]\n",
      " [ 1.      7.6031]\n",
      " [ 1.      9.4536]\n",
      " [ 1.      6.3534]\n",
      " [ 1.      7.3345]\n",
      " [ 1.      5.7292]\n",
      " [ 1.      7.0032]\n",
      " [ 1.      5.3077]\n",
      " [ 1.      9.2482]\n",
      " [ 1.      5.3794]\n",
      " [ 1.      5.3054]\n",
      " [ 1.      6.3328]\n",
      " [ 1.     21.279 ]\n",
      " [ 1.      5.8598]\n",
      " [ 1.      5.5416]\n",
      " [ 1.      5.7107]\n",
      " [ 1.      5.0702]\n",
      " [ 1.     11.708 ]\n",
      " [ 1.     14.908 ]\n",
      " [ 1.      8.5186]\n",
      " [ 1.      8.4084]\n",
      " [ 1.     18.945 ]\n",
      " [ 1.      5.5649]\n",
      " [ 1.      5.6063]\n",
      " [ 1.     13.394 ]\n",
      " [ 1.      6.5894]\n",
      " [ 1.      6.0062]\n",
      " [ 1.      6.2742]\n",
      " [ 1.      7.0708]]\n"
     ]
    }
   ],
   "source": [
    "x = np.stack([np.ones(m), X_train], axis=1)\n",
    "print(x)"
   ]
  },
  {
   "cell_type": "markdown",
   "metadata": {},
   "source": [
    "## 1.1 Fit the training data"
   ]
  },
  {
   "cell_type": "code",
   "execution_count": 315,
   "metadata": {},
   "outputs": [],
   "source": [
    "def __init__(self, alpha=0.05, n_iterations=1000):\n",
    "        self.alpha = alpha\n",
    "        self.n_iterations = n_iterations\n",
    "        def fit(self, x, y_train):\n",
    "            self.cost_ = []\n",
    "            self.w_ = np.zeros((x.shape[1], 1))\n",
    "            m = x.shape[0]\n",
    "            \n",
    "            for _ in range(self.n_iterations):\n",
    "                y_pred = np.dot(x, self.w_)\n",
    "                residuals = y_pred - y_train\n",
    "                gradient_vector = np.dot(x.T, residuals)\n",
    "                self.w_ -= (self.eta / m) * gradient_vector\n",
    "                cost = np.sum((residuals ** 2)) / (2 * m)\n",
    "                self.cost_.append(cost)\n",
    "                return self\n",
    "        def predict(self, x):\n",
    "            return np.dot(x, self.w_)\n",
    "    "
   ]
  },
  {
   "cell_type": "code",
   "execution_count": 316,
   "metadata": {},
   "outputs": [
    {
     "data": {
      "image/png": "[encoded data removed]",
      "text/plain": [
       "<Figure size 432x288 with 1 Axes>"
      ]
     },
     "metadata": {
      "needs_background": "light"
     },
     "output_type": "display_data"
    }
   ],
   "source": [
    "def plotData(X_train, y_train):\n",
    "   \n",
    "    fig = pyplot.figure()  # open a new figure\n",
    "    \n",
    "   \n",
    "    pyplot.plot(X_train, y_train, 'ro', ms=10, mec='k') # ms for the radius of the point\n",
    "    pyplot.ylabel('y')\n",
    "    pyplot.xlabel('x')\n",
    "\n",
    "plotData(X_train, y_train)"
   ]
  },
  {
   "cell_type": "markdown",
   "metadata": {},
   "source": []
  },
  {
   "cell_type": "markdown",
   "metadata": {},
   "source": [
    "## 1.2 Method to use the trained linear regression model for predictiction"
   ]
  },
  {
   "cell_type": "code",
   "execution_count": 317,
   "metadata": {},
   "outputs": [
    {
     "name": "stdout",
     "output_type": "stream",
     "text": [
      "Intercept: [       nan 0.66376174]\n",
      "\n",
      "Coefficient: [       nan 1.18708678]\n"
     ]
    },
    {
     "name": "stderr",
     "output_type": "stream",
     "text": [
      "C:\\Users\\Ghada\\Anaconda3\\lib\\site-packages\\ipykernel_launcher.py:19: RuntimeWarning: invalid value encountered in true_divide\n"
     ]
    }
   ],
   "source": [
    "\n",
    "def mean(vals):\n",
    "    return sum(vals)/float(len(vals))\n",
    "\n",
    "def variance(vals):\n",
    "    val_mean = mean(vals)\n",
    "    return sum([(x-val_mean)**2 for x in vals])\n",
    "\n",
    "def covariance(x,x_mean,y_train,y_mean):\n",
    "    cov = 0.0\n",
    "    for i in range(len(x)):\n",
    "        cov += (x[i]-x_mean) * (y_train[i]-y_mean)\n",
    "    return cov\n",
    "\n",
    "def getBetas(x,y_train):\n",
    "    x_mean = mean(x)\n",
    "    y_mean = mean(y_train)\n",
    "    cov = covariance(x,x_mean,y_train,y_mean)\n",
    "    x_var = variance(x)\n",
    "    b1 = cov/x_var\n",
    "    b0 = np.mean(y_train) - b1 * np.mean(x)\n",
    "    return b0,b1\n",
    "\n",
    "def predict(x,y_train):\n",
    "    intercept,coeff = getBetas(x,y_train)\n",
    "    preds = intercept+(coeff*x)\n",
    "    return preds\n",
    "\n",
    "# Model coefficients\n",
    "intercept, coeff = getBetas(x,y_train)\n",
    "print(f'Intercept: {intercept}\\n\\nCoefficient: {coeff}')\n",
    "\n",
    "# Model Prediction\n",
    "fcov_preds = predict(x,y_train)"
   ]
  },
  {
   "cell_type": "code",
   "execution_count": null,
   "metadata": {},
   "outputs": [],
   "source": []
  },
  {
   "cell_type": "markdown",
   "metadata": {},
   "source": [
    "## 1.3 Cost function"
   ]
  },
  {
   "cell_type": "code",
   "execution_count": 318,
   "metadata": {},
   "outputs": [],
   "source": [
    "def computeCost(x, y_train, theta):\n",
    "    # initialize some useful values\n",
    "    m = y_train.size  # number of training examples\n",
    "    \n",
    "    \n",
    "    J = 0\n",
    "    \n",
    "    \n",
    "    J =(1/(2*m))* sum((np.dot(x,theta)-y_train)**2)\n",
    "    \n",
    "\n",
    "    return J"
   ]
  },
  {
   "cell_type": "code",
   "execution_count": 319,
   "metadata": {},
   "outputs": [],
   "source": [
    "np.array([[1,2],[2,4]])\n",
    "a = np.zeros(2)"
   ]
  },
  {
   "cell_type": "code",
   "execution_count": 320,
   "metadata": {},
   "outputs": [
    {
     "name": "stdout",
     "output_type": "stream",
     "text": [
      "With theta = [0, 0] \n",
      "Cost computed for the Univariate model = 34.27\n"
     ]
    }
   ],
   "source": [
    "J = computeCost(x, y_train, theta=np.array([0.0, 0.0]))\n",
    "print('With theta = [0, 0] \\nCost computed for the Univariate model = %.2f' % J)"
   ]
  },
  {
   "cell_type": "markdown",
   "metadata": {},
   "source": [
    "## 1.4 Gradient Descent"
   ]
  },
  {
   "cell_type": "code",
   "execution_count": 321,
   "metadata": {},
   "outputs": [],
   "source": [
    "def gradientDescent(x, y_train, theta, alpha, num_iters):\n",
    "    \n",
    "    m = y_train.shape[0]  \n",
    "    \n",
    "    theta = theta.copy()\n",
    "    \n",
    "    \n",
    "    \n",
    "    J_history = [] \n",
    "    \n",
    "    for i in range(num_iters):\n",
    "        \n",
    "        theta = theta - alpha* (1/m) * (np.dot((np.dot(x,theta)-y_train),x))\n",
    "        \n",
    "        \n",
    "        J_history.append(computeCost(x, y_train, theta))\n",
    "    \n",
    "    return theta, J_history"
   ]
  },
  {
   "cell_type": "code",
   "execution_count": 323,
   "metadata": {},
   "outputs": [
    {
     "name": "stdout",
     "output_type": "stream",
     "text": [
      "Theta, of Univariate model, found by gradient descent: -3.3872, 1.1655\n",
      "[-3.3872068615471638, 1.165526375238939]\n"
     ]
    }
   ],
   "source": [
    "# initialize fitting parameters\n",
    "theta = np.zeros(2)\n",
    "\n",
    "# some gradient descent settings\n",
    "iterations = 1500\n",
    "alpha = 0.01\n",
    "\n",
    "theta, J_history = gradientDescent(x ,y_train, theta, alpha, iterations)\n",
    "print('Theta, of Univariate model, found by gradient descent: {:.4f}, {:.4f}'.format(*theta))\n",
    "print([*theta])\n"
   ]
  },
  {
   "cell_type": "markdown",
   "metadata": {},
   "source": [
    "### plot the linear fit"
   ]
  },
  {
   "cell_type": "code",
   "execution_count": 324,
   "metadata": {},
   "outputs": [
    {
     "data": {
      "image/png": "[encoded data removed]",
      "text/plain": [
       "<Figure size 432x288 with 1 Axes>"
      ]
     },
     "metadata": {
      "needs_background": "light"
     },
     "output_type": "display_data"
    }
   ],
   "source": [
    "\n",
    "plotData(x[:, 1], y_train)\n",
    "pyplot.plot(x[:, 1], np.dot(x, theta), '-')\n",
    "pyplot.legend(['Training data', 'Linear regression']);"
   ]
  },
  {
   "cell_type": "code",
   "execution_count": null,
   "metadata": {},
   "outputs": [],
   "source": [
    "    "
   ]
  },
  {
   "cell_type": "code",
   "execution_count": 325,
   "metadata": {},
   "outputs": [
    {
     "name": "stdout",
     "output_type": "stream",
     "text": [
      "For x = 12.828, we predict a y of 11.56\n",
      "\n"
     ]
    }
   ],
   "source": [
    "# Predict values for x of 12.828\n",
    "predict1 = np.dot([1, 12.828], theta)\n",
    "print('For x = 12.828, we predict a y of {:.2f}\\n'.format(predict1))\n",
    "\n"
   ]
  },
  {
   "cell_type": "markdown",
   "metadata": {},
   "source": [
    "## 1.5 Evaluate performance of the prediction of Univariate Linear Regrission model for the test data"
   ]
  },
  {
   "cell_type": "code",
   "execution_count": 326,
   "metadata": {},
   "outputs": [
    {
     "name": "stdout",
     "output_type": "stream",
     "text": [
      "fcov_preds = [1.54085014 3.4629522  9.43575917 7.1465852  0.02041954 0.19670664\n",
      " 3.90153795 0.48629507 1.54474868 6.2681954 ]\n"
     ]
    }
   ],
   "source": [
    "fcov_preds = predict(X_test,y_test)\n",
    "\n",
    "print('fcov_preds =',fcov_preds)"
   ]
  },
  {
   "cell_type": "code",
   "execution_count": 327,
   "metadata": {},
   "outputs": [
    {
     "name": "stdout",
     "output_type": "stream",
     "text": [
      "Performance for the Univariate model = 0.67\n"
     ]
    },
    {
     "data": {
      "text/plain": [
       "0.6665755898650905"
      ]
     },
     "execution_count": 327,
     "metadata": {},
     "output_type": "execute_result"
    }
   ],
   "source": [
    "def r2(fcov_preds,y_test):\n",
    "    sst = np.sum((y_test - y_test.mean())**2)\n",
    "    ssr = np.sum((fcov_preds - y_test)**2)\n",
    "    r2 = 1-(ssr/sst)\n",
    "    return(r2)\n",
    "#----------------\n",
    "\n",
    "print('Performance for the Univariate model = %.2f' % r2(fcov_preds,y_test))\n",
    "r2(fcov_preds,y_test)"
   ]
  },
  {
   "cell_type": "markdown",
   "metadata": {},
   "source": [
    "# 2 Linear regression with multiple variables (Multivariate Linear regression)"
   ]
  },
  {
   "cell_type": "code",
   "execution_count": 328,
   "metadata": {},
   "outputs": [
    {
     "name": "stdout",
     "output_type": "stream",
     "text": [
      "  X[:,0] X[:, 1]         y\n",
      "--------------------------\n",
      "    2104       3    399900\n",
      "    1600       3    329900\n",
      "    2400       3    369000\n",
      "    1416       2    232000\n",
      "    3000       4    539900\n",
      "    1985       4    299900\n",
      "    1534       3    314900\n",
      "    1427       3    198999\n",
      "    1380       3    212000\n",
      "    1494       3    242500\n"
     ]
    }
   ],
   "source": [
    "# Load data\n",
    "data = np.loadtxt(os.path.join(r'C:\\Users\\Ghada\\Downloads', 'multivariateData.dat'), delimiter=',')\n",
    "X = data[:, :2]\n",
    "y = data[:, 2]\n",
    "m = y.size\n",
    "\n",
    "# print out some data points\n",
    "print('{:>8s}{:>8s}{:>10s}'.format('X[:,0]', 'X[:, 1]', 'y'))\n",
    "print('-'*26)\n",
    "for i in range(10):\n",
    "    print('{:8.0f}{:8.0f}{:10.0f}'.format(X[i, 0], X[i, 1], y[i]))"
   ]
  },
  {
   "cell_type": "code",
   "execution_count": null,
   "metadata": {},
   "outputs": [],
   "source": []
  },
  {
   "cell_type": "markdown",
   "metadata": {},
   "source": [
    "## 2.1 Feature Normalization"
   ]
  },
  {
   "cell_type": "code",
   "execution_count": 329,
   "metadata": {},
   "outputs": [],
   "source": [
    "def  featureNormalize(X):\n",
    "\n",
    "    X_norm = X.copy()\n",
    "    mu = np.zeros(X.shape[1]) #mean value for each feature\n",
    "    sigma = np.zeros(X.shape[1])\n",
    "\n",
    "    mu = np.mean(X, axis=0)\n",
    "    sigma = np.std(X, axis=0)\n",
    "    X_norm = (X_norm - mu) / sigma\n",
    "    \n",
    "    return X_norm, mu, sigma"
   ]
  },
  {
   "cell_type": "code",
   "execution_count": 330,
   "metadata": {},
   "outputs": [
    {
     "name": "stdout",
     "output_type": "stream",
     "text": [
      "Computed mean: [2000.68085106    3.17021277]\n",
      "Computed standard deviation: [7.86202619e+02 7.52842809e-01]\n"
     ]
    }
   ],
   "source": [
    "# call featureNormalize on the loaded data\n",
    "X_norm, mu, sigma = featureNormalize(X)\n",
    "\n",
    "print('Computed mean:', mu)\n",
    "print('Computed standard deviation:', sigma)"
   ]
  },
  {
   "cell_type": "code",
   "execution_count": 331,
   "metadata": {},
   "outputs": [],
   "source": [
    "# Add intercept term to X\n",
    "X = np.concatenate([np.ones((m, 1)), X_norm], axis=1)"
   ]
  },
  {
   "cell_type": "markdown",
   "metadata": {},
   "source": [
    "## Fit"
   ]
  },
  {
   "cell_type": "code",
   "execution_count": 332,
   "metadata": {},
   "outputs": [],
   "source": [
    "def __init__(self, alpha=0.05, n_iterations=1000):\n",
    "        self.alpha = alpha\n",
    "        self.n_iterations = n_iterations\n",
    "        def fit(self, x, y):\n",
    "            self.cost_ = []\n",
    "            self.w_ = np.zeros((x.shape[1], 1))\n",
    "            m = x.shape[0]\n",
    "            \n",
    "            for _ in range(self.n_iterations):\n",
    "                y_pred = np.dot(x, self.w_)\n",
    "                residuals = y_pred - y\n",
    "                gradient_vector = np.dot(x.T, residuals)\n",
    "                self.w_ -= (self.eta / m) * gradient_vector\n",
    "                cost = np.sum((residuals ** 2)) / (2 * m)\n",
    "                self.cost_.append(cost)\n",
    "                return self\n",
    "        def predict(self, x):\n",
    "            return np.dot(x, self.w_)"
   ]
  },
  {
   "cell_type": "markdown",
   "metadata": {},
   "source": []
  },
  {
   "cell_type": "code",
   "execution_count": null,
   "metadata": {},
   "outputs": [],
   "source": []
  },
  {
   "cell_type": "markdown",
   "metadata": {},
   "source": [
    "## 2.2 Define the cost func."
   ]
  },
  {
   "cell_type": "markdown",
   "metadata": {},
   "source": [
    "### Splitting training and testing sets"
   ]
  },
  {
   "cell_type": "code",
   "execution_count": 333,
   "metadata": {},
   "outputs": [
    {
     "name": "stdout",
     "output_type": "stream",
     "text": [
      "m_train =  42\n",
      "With theta = [-1, 2] \n",
      "Cost computed for the Multivariate model = 34.267\n"
     ]
    }
   ],
   "source": [
    "X_train, X_test, y_train, y_test = train_test_split(X, y, test_size=0.1, random_state=27)\n",
    "m = y_train.size \n",
    "print('m_train = ', m)\n",
    "\n",
    "def computeCostMulti(X_train, y_train, theta):\n",
    "    # Initialize some useful values\n",
    "    m = y.shape[0] # number of training examples\n",
    "    \n",
    "    J = 0\n",
    "    \n",
    "    J =(1/(2*m))* sum((np.dot(X_train,theta)-y_train)**2)\n",
    "    \n",
    "    return J\n",
    "\n",
    "print('With theta = [-1, 2] \\nCost computed for the Multivariate model = %.3f' % J)"
   ]
  },
  {
   "cell_type": "code",
   "execution_count": null,
   "metadata": {},
   "outputs": [],
   "source": []
  },
  {
   "cell_type": "markdown",
   "metadata": {},
   "source": [
    "## 2.3 Gradient Descent"
   ]
  },
  {
   "cell_type": "code",
   "execution_count": 334,
   "metadata": {},
   "outputs": [],
   "source": [
    "def gradientDescentMulti(X_train, y_train, theta, alpha, num_iters):\n",
    "   \n",
    "    # Initialize some useful values\n",
    "    m = y_train.shape[0] # number of training examples\n",
    "    \n",
    "    # make a copy of theta, which will be updated by gradient descent\n",
    "    theta = theta.copy()\n",
    "    \n",
    "    J_history = []\n",
    "    \n",
    "    for i in range(num_iters):\n",
    "        \n",
    "        theta = theta - alpha* (1/m) * (np.dot((np.dot(X_train,theta)-y_train),X_train))\n",
    "        \n",
    "        # save the cost J in every iteration\n",
    "        J_history.append(computeCostMulti(X_train, y_train, theta))\n",
    "    \n",
    "    return theta, J_history"
   ]
  },
  {
   "cell_type": "code",
   "execution_count": 335,
   "metadata": {},
   "outputs": [
    {
     "name": "stdout",
     "output_type": "stream",
     "text": [
      "Theta, of Multivariate model, found by gradient descent: 338025.7379, 102319.1902\n",
      "[338025.737885484, 102319.19022950446, -334.4723690828155]\n"
     ]
    },
    {
     "data": {
      "text/plain": [
       "Text(0, 0.5, 'Cost J')"
      ]
     },
     "execution_count": 335,
     "metadata": {},
     "output_type": "execute_result"
    },
    {
     "data": {
      "image/png": "[encoded data removed]",
      "text/plain": [
       "<Figure size 432x288 with 1 Axes>"
      ]
     },
     "metadata": {
      "needs_background": "light"
     },
     "output_type": "display_data"
    }
   ],
   "source": [
    "# Choose some alpha value - change this\n",
    "alpha = 0.1\n",
    "num_iters = 50\n",
    "\n",
    "# init theta and run gradient descent\n",
    "theta = np.zeros(3)\n",
    "theta, J_history = gradientDescentMulti(X_train, y_train, theta, alpha, num_iters)\n",
    "print('Theta, of Multivariate model, found by gradient descent: {:.4f}, {:.4f}'.format(*theta))\n",
    "print([*theta])\n",
    "\n",
    "# Plot the convergence graph\n",
    "pyplot.plot(np.arange(len(J_history)), J_history, lw=2)\n",
    "pyplot.xlabel('Number of iterations')\n",
    "pyplot.ylabel('Cost J')"
   ]
  },
  {
   "cell_type": "markdown",
   "metadata": {},
   "source": [
    "## 2.5 Evaluate performance of the prediction of Multivariate Linear Regrission model for the test data"
   ]
  },
  {
   "cell_type": "code",
   "execution_count": 336,
   "metadata": {},
   "outputs": [
    {
     "name": "stdout",
     "output_type": "stream",
     "text": [
      "[238583.08862571 277365.86288961 406468.25238551 338012.75150361\n",
      " 272160.12137767]\n"
     ]
    }
   ],
   "source": [
    "# get y_pred\n",
    "y_ = X_test.dot(theta)\n",
    "\n",
    "print(y_)"
   ]
  },
  {
   "cell_type": "code",
   "execution_count": 337,
   "metadata": {},
   "outputs": [
    {
     "name": "stdout",
     "output_type": "stream",
     "text": [
      "Performance of the prediction for the test data of the Multivariate model = 0.82\n"
     ]
    },
    {
     "data": {
      "text/plain": [
       "0.8201840469670674"
      ]
     },
     "execution_count": 337,
     "metadata": {},
     "output_type": "execute_result"
    }
   ],
   "source": [
    "def r2(y_,y_test):\n",
    "    sst = np.sum((y_test - y_test.mean())**2)\n",
    "    ssr = np.sum((y_ - y_test)**2)\n",
    "    r2 = 1-(ssr/sst)\n",
    "    return(r2)\n",
    "\n",
    "print('Performance of the prediction for the test data of the Multivariate model = %.2f' % r2(y_,y_test))\n",
    "\n",
    "r2(y_,y_test)\n"
   ]
  },
  {
   "cell_type": "markdown",
   "metadata": {},
   "source": []
  },
  {
   "cell_type": "code",
   "execution_count": null,
   "metadata": {},
   "outputs": [],
   "source": []
  },
  {
   "cell_type": "code",
   "execution_count": null,
   "metadata": {},
   "outputs": [],
   "source": []
  },
  {
   "cell_type": "code",
   "execution_count": null,
   "metadata": {},
   "outputs": [],
   "source": []
  },
  {
   "cell_type": "code",
   "execution_count": 449,
   "metadata": {},
   "outputs": [],
   "source": []
  },
  {
   "cell_type": "code",
   "execution_count": 450,
   "metadata": {},
   "outputs": [],
   "source": []
  },
  {
   "cell_type": "code",
   "execution_count": null,
   "metadata": {},
   "outputs": [],
   "source": []
  },
  {
   "cell_type": "code",
   "execution_count": null,
   "metadata": {},
   "outputs": [],
   "source": []
  },
  {
   "cell_type": "code",
   "execution_count": null,
   "metadata": {},
   "outputs": [],
   "source": []
  }
 ],
 "metadata": {
  "kernelspec": {
   "display_name": "Python 3",
   "language": "python",
   "name": "python3"
  },
  "language_info": {
   "codemirror_mode": {
    "name": "ipython",
    "version": 3
   },
   "file_extension": ".py",
   "mimetype": "text/x-python",
   "name": "python",
   "nbconvert_exporter": "python",
   "pygments_lexer": "ipython3",
   "version": "3.7.4"
  }
 },
 "nbformat": 4,
 "nbformat_minor": 4
}
